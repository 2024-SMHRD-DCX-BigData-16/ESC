{
 "cells": [
  {
   "cell_type": "code",
   "execution_count": 1,
   "id": "bbfc948a",
   "metadata": {},
   "outputs": [],
   "source": [
    "import joblib\n",
    "import pandas as pd\n",
    "from sklearn.model_selection import train_test_split\n",
    "from sklearn.feature_extraction.text import CountVectorizer\n",
    "from sklearn.linear_model import LogisticRegression\n",
    "from sklearn.metrics import classification_report"
   ]
  },
  {
   "cell_type": "code",
   "execution_count": 10,
   "id": "5d86cb8d",
   "metadata": {},
   "outputs": [
    {
     "name": "stdout",
     "output_type": "stream",
     "text": [
      "              precision    recall  f1-score   support\n",
      "\n",
      "           0     0.8732    0.9185    0.8953       405\n",
      "           1     0.9118    0.8633    0.8869       395\n",
      "\n",
      "    accuracy                         0.8912       800\n",
      "   macro avg     0.8925    0.8909    0.8911       800\n",
      "weighted avg     0.8923    0.8912    0.8911       800\n",
      "\n"
     ]
    }
   ],
   "source": [
    "# 파일 불러오기\n",
    "df_0 = pd.read_csv('./train_0.csv')  \n",
    "df_1 = pd.read_csv('./train_1.csv')\n",
    "\n",
    "# 하나로 합치기\n",
    "df = pd.concat([df_0, df_1], ignore_index=True)\n",
    "\n",
    "# 순서 섞기\n",
    "df = df.sample(frac=1).reset_index(drop=True)\n",
    "\n",
    "# 입력값과 타깃 분리\n",
    "X = df['title']\n",
    "y = df['tag']\n",
    "\n",
    "# 훈련/검증 데이터 분리\n",
    "X_train, X_test, y_train, y_test = train_test_split(X, y, test_size=0.2, random_state=42)\n",
    "\n",
    "# 텍스트 벡터화\n",
    "vectorizer = CountVectorizer(max_features=5000)\n",
    "X_train_vec = vectorizer.fit_transform(X_train)\n",
    "X_test_vec = vectorizer.transform(X_test)\n",
    "\n",
    "# 분류기 학습\n",
    "model = LogisticRegression()\n",
    "model.fit(X_train_vec, y_train)\n",
    "\n",
    "# 예측 및 평가\n",
    "y_pred = model.predict(X_test_vec)\n",
    "print(classification_report(y_test, y_pred, digits=4))"
   ]
  },
  {
   "cell_type": "code",
   "execution_count": 11,
   "id": "9b8d18cd",
   "metadata": {},
   "outputs": [],
   "source": [
    "# 사용자 입력 받아 분류하는 함수\n",
    "def predict_news_title(title: str):\n",
    "    # 입력 문장을 벡터화\n",
    "    title_vec = vectorizer.transform([title])\n",
    "    \n",
    "    # 예측\n",
    "    prediction = model.predict(title_vec)[0]\n",
    "    prob = model.predict_proba(title_vec)[0][prediction]\n",
    "    \n",
    "    # 결과 출력\n",
    "    if prediction == 1:\n",
    "        print(f\"[노동 관련 뉴스] ({prob:.2f} 확률)\")\n",
    "    else:\n",
    "        print(f\"[노동 무관 뉴스] ({prob:.2f} 확률)\")"
   ]
  },
  {
   "cell_type": "code",
   "execution_count": 16,
   "id": "f775a70b",
   "metadata": {},
   "outputs": [
    {
     "name": "stdout",
     "output_type": "stream",
     "text": [
      "[노동 관련 뉴스] (0.73 확률)\n"
     ]
    }
   ],
   "source": [
    "# 예시 사용\n",
    "user_input = input(\"뉴스 제목을 입력하세요: \")\n",
    "predict_news_title(user_input)"
   ]
  },
  {
   "cell_type": "code",
   "execution_count": 13,
   "id": "94119a3f",
   "metadata": {},
   "outputs": [
    {
     "data": {
      "text/plain": [
       "['vectorizer.pkl']"
      ]
     },
     "execution_count": 13,
     "metadata": {},
     "output_type": "execute_result"
    }
   ],
   "source": [
    "# 모델과 벡터라이저 저장\n",
    "joblib.dump(model, 'logistic_model.pkl')\n",
    "joblib.dump(vectorizer, 'vectorizer.pkl')"
   ]
  },
  {
   "cell_type": "code",
   "execution_count": null,
   "id": "1b99938c",
   "metadata": {},
   "outputs": [],
   "source": []
  },
  {
   "cell_type": "code",
   "execution_count": null,
   "id": "a888d039",
   "metadata": {},
   "outputs": [],
   "source": []
  }
 ],
 "metadata": {
  "kernelspec": {
   "display_name": "Python 3",
   "language": "python",
   "name": "python3"
  },
  "language_info": {
   "codemirror_mode": {
    "name": "ipython",
    "version": 3
   },
   "file_extension": ".py",
   "mimetype": "text/x-python",
   "name": "python",
   "nbconvert_exporter": "python",
   "pygments_lexer": "ipython3",
   "version": "3.12.8"
  }
 },
 "nbformat": 4,
 "nbformat_minor": 5
}
